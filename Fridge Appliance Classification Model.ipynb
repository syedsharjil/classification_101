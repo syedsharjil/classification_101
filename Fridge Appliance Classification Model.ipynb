{
 "cells": [
  {
   "cell_type": "markdown",
   "metadata": {},
   "source": [
    "# Fridge Appliance Classification Model"
   ]
  },
  {
   "cell_type": "markdown",
   "metadata": {},
   "source": [
    "### importing libraries and  functions"
   ]
  },
  {
   "cell_type": "code",
   "execution_count": 7,
   "metadata": {},
   "outputs": [
    {
     "data": {
      "text/html": [
       "<style>.container { width:95% !important; }</style>"
      ],
      "text/plain": [
       "<IPython.core.display.HTML object>"
      ]
     },
     "metadata": {},
     "output_type": "display_data"
    }
   ],
   "source": [
    "from xgboost import XGBClassifier,cv\n",
    "from sklearn.model_selection import train_test_split\n",
    "from sklearn.metrics import accuracy_score\n",
    "from sklearn.metrics import confusion_matrix,plot_confusion_matrix,plot_roc_curve\n",
    "import matplotlib.pyplot as plt\n",
    "from sklearn.preprocessing import LabelEncoder\n",
    "import pandas as pd\n",
    "import xgboost\n",
    "pd.set_option('display.max_columns', 500)\n",
    "pd.set_option('display.max_rows', 500)\n",
    "import seaborn as sns #Graph library that use matplot in background\n",
    "import matplotlib.pyplot as plt\n",
    "from sklearn.ensemble import RandomForestClassifier\n",
    "import warnings\n",
    "warnings.filterwarnings(\"ignore\")\n",
    "\n",
    "from IPython.core.display import display, HTML\n",
    "display(HTML(\"<style>.container { width:95% !important; }</style>\"))"
   ]
  },
  {
   "cell_type": "markdown",
   "metadata": {},
   "source": [
    "### Reading the data"
   ]
  },
  {
   "cell_type": "code",
   "execution_count": 8,
   "metadata": {},
   "outputs": [],
   "source": [
    "train_df =pd.read_csv ('../data/raw/X_train.csv')\n",
    "test_df = pd.read_csv('../data/raw/X_test_result.csv')\n",
    "\n",
    "train_df.drop(columns=['Unnamed: 0','Unnamed: 0.1','event_type'],inplace=True)\n",
    "test_df.drop(columns=['Unnamed: 0','Unnamed: 0.1','event_type'],inplace=True)\n",
    "\n",
    "train_df.sort_index(axis=1,inplace=True)\n",
    "test_df.sort_index(axis=1,inplace=True)"
   ]
  },
  {
   "cell_type": "markdown",
   "metadata": {},
   "source": [
    "### Checking the shape of data"
   ]
  },
  {
   "cell_type": "code",
   "execution_count": 9,
   "metadata": {},
   "outputs": [
    {
     "name": "stdout",
     "output_type": "stream",
     "text": [
      "(5628, 38)\n",
      "(2773, 38)\n"
     ]
    }
   ],
   "source": [
    "print(train_df.shape)\n",
    "print(test_df.shape)"
   ]
  },
  {
   "cell_type": "markdown",
   "metadata": {},
   "source": [
    "### Data Cleaning"
   ]
  },
  {
   "cell_type": "code",
   "execution_count": 10,
   "metadata": {},
   "outputs": [],
   "source": [
    "#Fixing nulls and \n",
    "train_df.loc[train_df['appliance_name']!='fridge','appliance_name'] = 0\n",
    "train_df.loc[train_df['appliance_name'].isna(),'appliance_name'] = 0\n",
    "train_df.loc[train_df['appliance_name']=='fridge','appliance_name'] = 1\n",
    "\n",
    "test_df.loc[test_df['appliance_name']!='fridge','appliance_name'] = 0\n",
    "test_df.loc[test_df['appliance_name'].isna(),'appliance_name'] = 0\n",
    "test_df.loc[test_df['appliance_name']=='fridge','appliance_name'] = 1"
   ]
  },
  {
   "cell_type": "code",
   "execution_count": 11,
   "metadata": {},
   "outputs": [],
   "source": [
    "# Intitally tried encoding event type, but realized that event type is directly correlated with the appliance name\n",
    "\n",
    "# # encode string input values as integers\n",
    "# encode_columns=['event_type']\n",
    "# encode_df = train_df[encode_columns]\n",
    "# encode_df = encode_df.astype('str')\n",
    "# encode_df = encode_df.apply(LabelEncoder().fit_transform)\n",
    "# train_df_drop = train_df.drop(encode_columns, axis = 1)\n",
    "# train_df = pd.concat([train_df_drop, encode_df], axis = 1)\n",
    "\n",
    "# # encode string input values as integers\n",
    "# encode_columns=['event_type']\n",
    "# encode_df = test_df[encode_columns]\n",
    "# encode_df = encode_df.astype('str')\n",
    "# encode_df = encode_df.apply(LabelEncoder().fit_transform)\n",
    "# test_df_drop = test_df.drop(encode_columns, axis = 1)\n",
    "# test_df = pd.concat([test_df_drop, encode_df], axis = 1)"
   ]
  },
  {
   "cell_type": "code",
   "execution_count": 12,
   "metadata": {},
   "outputs": [],
   "source": [
    "# Replacing null in train data with the median values\n",
    "\n",
    "na_col_df = pd.DataFrame(train_df.isnull().sum()).reset_index()\n",
    "na_col_df.columns = ['Column Name','Number of NAs']\n",
    "list_of_na_cols = na_col_df.loc[na_col_df['Number of NAs']!=0, 'Column Name'].to_list()\n",
    "\n",
    "for each_col in list_of_na_cols:\n",
    "    median = train_df[each_col].median()\n",
    "    train_df.loc[train_df[each_col].isnull(),each_col] = median"
   ]
  },
  {
   "cell_type": "code",
   "execution_count": 13,
   "metadata": {},
   "outputs": [],
   "source": [
    "# Replacing null in test data with the median values\n",
    "\n",
    "na_col_df = pd.DataFrame(test_df.isnull().sum()).reset_index()\n",
    "na_col_df.columns = ['Column Name','Number of NAs']\n",
    "list_of_na_cols = na_col_df.loc[na_col_df['Number of NAs']!=0, 'Column Name'].to_list()\n",
    "\n",
    "for each_col in list_of_na_cols:\n",
    "    median = test_df[each_col].median()\n",
    "    test_df.loc[test_df[each_col].isnull(),each_col] = median"
   ]
  },
  {
   "cell_type": "code",
   "execution_count": 14,
   "metadata": {},
   "outputs": [],
   "source": [
    "# creating indenpendent and dependent features\n",
    "independent_features = ['active_power', 'active_power_delta', 'apparent_power',\n",
    "       'current','energy','harmonic_ratio_1',\n",
    "       'harmonic_ratio_2', 'harmonic_ratio_3', 'harmonic_ratio_4',\n",
    "       'harmonic_ratio_5', 'harmonic_ratio_6', 'harmonic_ratio_7',\n",
    "       'harmonic_ratio_8', 'harmonic_ratio_9', 'hz', 'phase_shift',\n",
    "       'reactive_power', 'reactive_power_delta', 'seq_id', 'transient_1',\n",
    "       'transient_10', 'transient_2', 'transient_3', 'transient_4',\n",
    "       'transient_5', 'transient_6', 'transient_7', 'transient_8',\n",
    "       'transient_9', 'voltage',]\n",
    "\n",
    "dependent_feature = ['appliance_name']"
   ]
  },
  {
   "cell_type": "code",
   "execution_count": 15,
   "metadata": {},
   "outputs": [],
   "source": [
    "#converting dependent variables to numeric dtype\n",
    "train_df['appliance_name'] = train_df['appliance_name'].astype(int)\n",
    "test_df['appliance_name'] = test_df['appliance_name'].astype(int)"
   ]
  },
  {
   "cell_type": "code",
   "execution_count": 16,
   "metadata": {},
   "outputs": [],
   "source": [
    "#separating dependent and independent variables\n",
    "X_train = train_df[independent_features]\n",
    "y_train = train_df[dependent_feature]\n",
    "\n",
    "X_test = test_df[independent_features]\n",
    "y_test = test_df[dependent_feature]"
   ]
  },
  {
   "cell_type": "code",
   "execution_count": 17,
   "metadata": {},
   "outputs": [],
   "source": [
    "# plt.figure(figsize=(14,12))\n",
    "# sns.heatmap(X_train.astype(float).corr(),linewidths=0.1,vmax=1.0, \n",
    "#             square=True,  linecolor='white', annot=True)\n",
    "# plt.show()"
   ]
  },
  {
   "cell_type": "markdown",
   "metadata": {},
   "source": [
    "### Models"
   ]
  },
  {
   "cell_type": "markdown",
   "metadata": {},
   "source": [
    "##### Imports"
   ]
  },
  {
   "cell_type": "code",
   "execution_count": 18,
   "metadata": {},
   "outputs": [],
   "source": [
    "from sklearn.model_selection import train_test_split, KFold, cross_val_score # to split the data\n",
    "from sklearn.metrics import accuracy_score, confusion_matrix, classification_report, fbeta_score #To evaluate our model\n",
    "\n",
    "from sklearn.model_selection import GridSearchCV\n",
    "\n",
    "# Algorithmns models to be compared\n",
    "from sklearn.ensemble import RandomForestClassifier\n",
    "from sklearn.linear_model import LogisticRegression\n",
    "from sklearn.tree import DecisionTreeClassifier\n",
    "from sklearn.neighbors import KNeighborsClassifier\n",
    "from sklearn.ensemble import RandomForestClassifier\n",
    "from sklearn.discriminant_analysis import LinearDiscriminantAnalysis\n",
    "from sklearn.naive_bayes import GaussianNB\n",
    "from sklearn.svm import SVC\n",
    "from xgboost import XGBClassifier"
   ]
  },
  {
   "cell_type": "markdown",
   "metadata": {},
   "source": [
    "##### Create list of models "
   ]
  },
  {
   "cell_type": "code",
   "execution_count": 19,
   "metadata": {},
   "outputs": [],
   "source": [
    "# to feed the random state\n",
    "seed = 7\n",
    "\n",
    "# prepare list of classification models\n",
    "models = []\n",
    "models.append(('LR', LogisticRegression()))\n",
    "models.append(('LDA', LinearDiscriminantAnalysis()))\n",
    "models.append(('KNN', KNeighborsClassifier()))\n",
    "models.append(('CART', DecisionTreeClassifier()))\n",
    "models.append(('NB', GaussianNB()))\n",
    "models.append(('RF', RandomForestClassifier()))\n",
    "models.append(('SVM', SVC(gamma='auto')))\n",
    "models.append(('XGB', XGBClassifier()))\n",
    "\n",
    "# evaluate each model in turn\n",
    "results = []\n",
    "names = []\n",
    "scoring = 'roc_auc' #scoring method "
   ]
  },
  {
   "cell_type": "code",
   "execution_count": 20,
   "metadata": {},
   "outputs": [
    {
     "name": "stdout",
     "output_type": "stream",
     "text": [
      "LR: 0.825108 (0.018673)\n",
      "LDA: 0.952580 (0.006981)\n",
      "KNN: 0.601441 (0.011366)\n",
      "CART: 0.922205 (0.010415)\n",
      "NB: 0.726822 (0.019289)\n",
      "RF: 0.986585 (0.004699)\n",
      "SVM: 0.500000 (0.000000)\n",
      "[11:22:33] WARNING: C:/Users/Administrator/workspace/xgboost-win64_release_1.4.0/src/learner.cc:1095: Starting in XGBoost 1.3.0, the default evaluation metric used with the objective 'binary:logistic' was changed from 'error' to 'logloss'. Explicitly set eval_metric if you'd like to restore the old behavior.\n",
      "[11:22:34] WARNING: C:/Users/Administrator/workspace/xgboost-win64_release_1.4.0/src/learner.cc:1095: Starting in XGBoost 1.3.0, the default evaluation metric used with the objective 'binary:logistic' was changed from 'error' to 'logloss'. Explicitly set eval_metric if you'd like to restore the old behavior.\n",
      "[11:22:34] WARNING: C:/Users/Administrator/workspace/xgboost-win64_release_1.4.0/src/learner.cc:1095: Starting in XGBoost 1.3.0, the default evaluation metric used with the objective 'binary:logistic' was changed from 'error' to 'logloss'. Explicitly set eval_metric if you'd like to restore the old behavior.\n",
      "[11:22:35] WARNING: C:/Users/Administrator/workspace/xgboost-win64_release_1.4.0/src/learner.cc:1095: Starting in XGBoost 1.3.0, the default evaluation metric used with the objective 'binary:logistic' was changed from 'error' to 'logloss'. Explicitly set eval_metric if you'd like to restore the old behavior.\n",
      "[11:22:36] WARNING: C:/Users/Administrator/workspace/xgboost-win64_release_1.4.0/src/learner.cc:1095: Starting in XGBoost 1.3.0, the default evaluation metric used with the objective 'binary:logistic' was changed from 'error' to 'logloss'. Explicitly set eval_metric if you'd like to restore the old behavior.\n",
      "XGB: 0.988787 (0.004211)\n"
     ]
    }
   ],
   "source": [
    "for name, model in models:\n",
    "        kfold = KFold(n_splits=5, random_state=seed)\n",
    "        cv_results = cross_val_score(model, X_train, y_train, cv=kfold, scoring=scoring)\n",
    "        #appending the mean of the rocs after crossvalidation\n",
    "        results.append(cv_results)\n",
    "        names.append(name)\n",
    "        msg = \"%s: %f (%f)\" % (name, cv_results.mean(), cv_results.std())\n",
    "        print(msg)"
   ]
  },
  {
   "cell_type": "code",
   "execution_count": 21,
   "metadata": {},
   "outputs": [
    {
     "data": {
      "image/png": "[encoded data removed]",
      "text/plain": [
       "<Figure size 792x432 with 1 Axes>"
      ]
     },
     "metadata": {
      "needs_background": "light"
     },
     "output_type": "display_data"
    }
   ],
   "source": [
    "# boxplot algorithm comparison\n",
    "fig = plt.figure(figsize=(11,6))\n",
    "fig.suptitle('Algorithm Comparison')\n",
    "ax = fig.add_subplot(111)\n",
    "plt.boxplot(results)\n",
    "ax.set_xticklabels(names)\n",
    "plt.show()"
   ]
  },
  {
   "cell_type": "code",
   "execution_count": 22,
   "metadata": {},
   "outputs": [
    {
     "name": "stdout",
     "output_type": "stream",
     "text": [
      "Fitting 3 folds for each of 12 candidates, totalling 36 fits\n",
      "[CV] max_depth=10, max_features=15, n_estimators=25 ..................\n"
     ]
    },
    {
     "name": "stderr",
     "output_type": "stream",
     "text": [
      "[Parallel(n_jobs=1)]: Using backend SequentialBackend with 1 concurrent workers.\n"
     ]
    },
    {
     "name": "stdout",
     "output_type": "stream",
     "text": [
      "[CV]  max_depth=10, max_features=15, n_estimators=25, score=0.984, total=   0.6s\n",
      "[CV] max_depth=10, max_features=15, n_estimators=25 ..................\n"
     ]
    },
    {
     "name": "stderr",
     "output_type": "stream",
     "text": [
      "[Parallel(n_jobs=1)]: Done   1 out of   1 | elapsed:    0.5s remaining:    0.0s\n"
     ]
    },
    {
     "name": "stdout",
     "output_type": "stream",
     "text": [
      "[CV]  max_depth=10, max_features=15, n_estimators=25, score=0.988, total=   0.7s\n",
      "[CV] max_depth=10, max_features=15, n_estimators=25 ..................\n"
     ]
    },
    {
     "name": "stderr",
     "output_type": "stream",
     "text": [
      "[Parallel(n_jobs=1)]: Done   2 out of   2 | elapsed:    1.2s remaining:    0.0s\n"
     ]
    },
    {
     "name": "stdout",
     "output_type": "stream",
     "text": [
      "[CV]  max_depth=10, max_features=15, n_estimators=25, score=0.981, total=   0.6s\n",
      "[CV] max_depth=10, max_features=15, n_estimators=50 ..................\n"
     ]
    },
    {
     "name": "stderr",
     "output_type": "stream",
     "text": [
      "[Parallel(n_jobs=1)]: Done   3 out of   3 | elapsed:    1.9s remaining:    0.0s\n"
     ]
    },
    {
     "name": "stdout",
     "output_type": "stream",
     "text": [
      "[CV]  max_depth=10, max_features=15, n_estimators=50, score=0.984, total=   1.3s\n",
      "[CV] max_depth=10, max_features=15, n_estimators=50 ..................\n",
      "[CV]  max_depth=10, max_features=15, n_estimators=50, score=0.988, total=   1.4s\n",
      "[CV] max_depth=10, max_features=15, n_estimators=50 ..................\n",
      "[CV]  max_depth=10, max_features=15, n_estimators=50, score=0.983, total=   1.4s\n",
      "[CV] max_depth=10, max_features=15, n_estimators=100 .................\n",
      "[CV]  max_depth=10, max_features=15, n_estimators=100, score=0.984, total=   2.7s\n",
      "[CV] max_depth=10, max_features=15, n_estimators=100 .................\n",
      "[CV]  max_depth=10, max_features=15, n_estimators=100, score=0.989, total=   2.9s\n",
      "[CV] max_depth=10, max_features=15, n_estimators=100 .................\n",
      "[CV]  max_depth=10, max_features=15, n_estimators=100, score=0.983, total=   2.6s\n",
      "[CV] max_depth=10, max_features=30, n_estimators=25 ..................\n",
      "[CV]  max_depth=10, max_features=30, n_estimators=25, score=0.981, total=   1.2s\n",
      "[CV] max_depth=10, max_features=30, n_estimators=25 ..................\n",
      "[CV]  max_depth=10, max_features=30, n_estimators=25, score=0.983, total=   1.2s\n",
      "[CV] max_depth=10, max_features=30, n_estimators=25 ..................\n",
      "[CV]  max_depth=10, max_features=30, n_estimators=25, score=0.981, total=   1.2s\n",
      "[CV] max_depth=10, max_features=30, n_estimators=50 ..................\n",
      "[CV]  max_depth=10, max_features=30, n_estimators=50, score=0.981, total=   2.4s\n",
      "[CV] max_depth=10, max_features=30, n_estimators=50 ..................\n",
      "[CV]  max_depth=10, max_features=30, n_estimators=50, score=0.984, total=   2.4s\n",
      "[CV] max_depth=10, max_features=30, n_estimators=50 ..................\n",
      "[CV]  max_depth=10, max_features=30, n_estimators=50, score=0.981, total=   2.4s\n",
      "[CV] max_depth=10, max_features=30, n_estimators=100 .................\n",
      "[CV]  max_depth=10, max_features=30, n_estimators=100, score=0.982, total=   5.6s\n",
      "[CV] max_depth=10, max_features=30, n_estimators=100 .................\n",
      "[CV]  max_depth=10, max_features=30, n_estimators=100, score=0.985, total=   5.2s\n",
      "[CV] max_depth=10, max_features=30, n_estimators=100 .................\n",
      "[CV]  max_depth=10, max_features=30, n_estimators=100, score=0.982, total=   4.9s\n",
      "[CV] max_depth=40, max_features=15, n_estimators=25 ..................\n",
      "[CV]  max_depth=40, max_features=15, n_estimators=25, score=0.982, total=   0.8s\n",
      "[CV] max_depth=40, max_features=15, n_estimators=25 ..................\n",
      "[CV]  max_depth=40, max_features=15, n_estimators=25, score=0.986, total=   0.9s\n",
      "[CV] max_depth=40, max_features=15, n_estimators=25 ..................\n",
      "[CV]  max_depth=40, max_features=15, n_estimators=25, score=0.977, total=   0.9s\n",
      "[CV] max_depth=40, max_features=15, n_estimators=50 ..................\n",
      "[CV]  max_depth=40, max_features=15, n_estimators=50, score=0.983, total=   1.8s\n",
      "[CV] max_depth=40, max_features=15, n_estimators=50 ..................\n",
      "[CV]  max_depth=40, max_features=15, n_estimators=50, score=0.988, total=   1.7s\n",
      "[CV] max_depth=40, max_features=15, n_estimators=50 ..................\n",
      "[CV]  max_depth=40, max_features=15, n_estimators=50, score=0.978, total=   1.9s\n",
      "[CV] max_depth=40, max_features=15, n_estimators=100 .................\n",
      "[CV]  max_depth=40, max_features=15, n_estimators=100, score=0.984, total=   3.3s\n",
      "[CV] max_depth=40, max_features=15, n_estimators=100 .................\n",
      "[CV]  max_depth=40, max_features=15, n_estimators=100, score=0.989, total=   3.3s\n",
      "[CV] max_depth=40, max_features=15, n_estimators=100 .................\n",
      "[CV]  max_depth=40, max_features=15, n_estimators=100, score=0.981, total=   3.6s\n",
      "[CV] max_depth=40, max_features=30, n_estimators=25 ..................\n",
      "[CV]  max_depth=40, max_features=30, n_estimators=25, score=0.978, total=   1.8s\n",
      "[CV] max_depth=40, max_features=30, n_estimators=25 ..................\n",
      "[CV]  max_depth=40, max_features=30, n_estimators=25, score=0.984, total=   1.7s\n",
      "[CV] max_depth=40, max_features=30, n_estimators=25 ..................\n",
      "[CV]  max_depth=40, max_features=30, n_estimators=25, score=0.979, total=   1.7s\n",
      "[CV] max_depth=40, max_features=30, n_estimators=50 ..................\n",
      "[CV]  max_depth=40, max_features=30, n_estimators=50, score=0.979, total=   3.6s\n",
      "[CV] max_depth=40, max_features=30, n_estimators=50 ..................\n",
      "[CV]  max_depth=40, max_features=30, n_estimators=50, score=0.986, total=   3.9s\n",
      "[CV] max_depth=40, max_features=30, n_estimators=50 ..................\n",
      "[CV]  max_depth=40, max_features=30, n_estimators=50, score=0.979, total=   3.8s\n",
      "[CV] max_depth=40, max_features=30, n_estimators=100 .................\n",
      "[CV]  max_depth=40, max_features=30, n_estimators=100, score=0.980, total=   7.8s\n",
      "[CV] max_depth=40, max_features=30, n_estimators=100 .................\n",
      "[CV]  max_depth=40, max_features=30, n_estimators=100, score=0.987, total=   7.6s\n",
      "[CV] max_depth=40, max_features=30, n_estimators=100 .................\n",
      "[CV]  max_depth=40, max_features=30, n_estimators=100, score=0.980, total=   7.8s\n"
     ]
    },
    {
     "name": "stderr",
     "output_type": "stream",
     "text": [
      "[Parallel(n_jobs=1)]: Done  36 out of  36 | elapsed:  1.6min finished\n"
     ]
    },
    {
     "data": {
      "text/plain": [
       "GridSearchCV(cv=3, estimator=RandomForestClassifier(random_state=2),\n",
       "             param_grid=({'max_depth': [10, 40], 'max_features': [15, 30],\n",
       "                          'n_estimators': [25, 50, 100]},),\n",
       "             scoring='roc_auc', verbose=4)"
      ]
     },
     "execution_count": 22,
     "metadata": {},
     "output_type": "execute_result"
    }
   ],
   "source": [
    "#Tuning the Hyper Parameters\n",
    "param_grid = {\"max_depth\": [10,40],\n",
    "              \"n_estimators\":[25,50,100],\n",
    "              \"max_features\": [15,30]},\n",
    "\n",
    "#Creating the classifier\n",
    "model = RandomForestClassifier(random_state=2)\n",
    "\n",
    "grid_search = GridSearchCV(model, param_grid=param_grid, cv=3, scoring='roc_auc', verbose=4)\n",
    "grid_search.fit(X_train, y_train)"
   ]
  },
  {
   "cell_type": "code",
   "execution_count": 23,
   "metadata": {
    "scrolled": true
   },
   "outputs": [],
   "source": [
    "final_rf_model = grid_search.best_estimator_.fit(X_train,y_train)"
   ]
  },
  {
   "cell_type": "code",
   "execution_count": 31,
   "metadata": {},
   "outputs": [],
   "source": [
    "y_pred = final_rf_model.predict(X_test)"
   ]
  },
  {
   "cell_type": "code",
   "execution_count": 25,
   "metadata": {},
   "outputs": [
    {
     "data": {
      "text/plain": [
       "<sklearn.metrics._plot.confusion_matrix.ConfusionMatrixDisplay at 0x23682f5b1c0>"
      ]
     },
     "execution_count": 25,
     "metadata": {},
     "output_type": "execute_result"
    },
    {
     "data": {
      "image/png": "[encoded data removed]",
      "text/plain": [
       "<Figure size 432x288 with 2 Axes>"
      ]
     },
     "metadata": {
      "needs_background": "light"
     },
     "output_type": "display_data"
    }
   ],
   "source": [
    "plot_confusion_matrix(final_rf_model,X_test,y_test)"
   ]
  },
  {
   "cell_type": "code",
   "execution_count": 26,
   "metadata": {},
   "outputs": [
    {
     "data": {
      "text/plain": [
       "<sklearn.metrics._plot.roc_curve.RocCurveDisplay at 0x236831d9730>"
      ]
     },
     "execution_count": 26,
     "metadata": {},
     "output_type": "execute_result"
    },
    {
     "data": {
      "image/png": "[encoded data removed]",
      "text/plain": [
       "<Figure size 432x288 with 1 Axes>"
      ]
     },
     "metadata": {
      "needs_background": "light"
     },
     "output_type": "display_data"
    }
   ],
   "source": [
    "plot_roc_curve(final_rf_model,X_test,y_test)"
   ]
  },
  {
   "cell_type": "code",
   "execution_count": 27,
   "metadata": {},
   "outputs": [
    {
     "name": "stdout",
     "output_type": "stream",
     "text": [
      "\n",
      "accuracy_score on test dataset :  0.9765596826541652\n"
     ]
    }
   ],
   "source": [
    "# Accuracy Score on test dataset\n",
    "accuracy_test = accuracy_score(y_test,y_pred)\n",
    "print('\\naccuracy_score on test dataset : ', accuracy_test)"
   ]
  },
  {
   "cell_type": "code",
   "execution_count": 28,
   "metadata": {},
   "outputs": [],
   "source": [
    "feature_names = X_train.columns.values.tolist()"
   ]
  },
  {
   "cell_type": "code",
   "execution_count": 29,
   "metadata": {},
   "outputs": [
    {
     "data": {
      "image/png": "[encoded data removed]",
      "text/plain": [
       "<Figure size 432x288 with 1 Axes>"
      ]
     },
     "metadata": {
      "needs_background": "light"
     },
     "output_type": "display_data"
    }
   ],
   "source": [
    "from sklearn.inspection import permutation_importance\n",
    "\n",
    "\n",
    "result = permutation_importance(\n",
    "    final_rf_model, X_test, y_test, n_repeats=10, random_state=42, n_jobs=2)\n",
    "forest_importances = pd.Series(result.importances_mean, index=feature_names)\n",
    "\n",
    "fig, ax = plt.subplots()\n",
    "forest_importances.plot.bar(yerr=result.importances_std, ax=ax)\n",
    "ax.set_title(\"Feature importances using permutation on full model\")\n",
    "ax.set_ylabel(\"Mean accuracy decrease\")\n",
    "fig.tight_layout()\n",
    "plt.show()"
   ]
  }
 ],
 "metadata": {
  "kernelspec": {
   "display_name": "Python 3",
   "language": "python",
   "name": "python3"
  },
  "language_info": {
   "codemirror_mode": {
    "name": "ipython",
    "version": 3
   },
   "file_extension": ".py",
   "mimetype": "text/x-python",
   "name": "python",
   "nbconvert_exporter": "python",
   "pygments_lexer": "ipython3",
   "version": "3.8.5"
  }
 },
 "nbformat": 4,
 "nbformat_minor": 4
}
